{
 "cells": [
  {
   "cell_type": "code",
   "execution_count": 1,
   "id": "0522c6a9",
   "metadata": {},
   "outputs": [
    {
     "name": "stdout",
     "output_type": "stream",
     "text": [
      "2\n",
      "2\n",
      "2\n",
      "2\n",
      "[[0, 0, 0], [0, 0, 1], [0, 1, 0], [0, 1, 2], [0, 2, 1], [0, 2, 2], [1, 0, 0], [1, 0, 2], [1, 1, 1], [1, 1, 2], [1, 2, 0], [1, 2, 1], [1, 2, 2], [2, 0, 1], [2, 0, 2], [2, 1, 0], [2, 1, 1], [2, 1, 2], [2, 2, 0], [2, 2, 1], [2, 2, 2]]\n"
     ]
    }
   ],
   "source": [
    "# Task - 1 -  List Comprehensions\n",
    "if __name__ == '__main__':\n",
    "    x = int(input())\n",
    "    y = int(input())\n",
    "    z = int(input())\n",
    "    n = int(input())\n",
    "    print(list([i,j,k] for i in range(x+1) for j in range(y+1) for k in range(z+1)  if i+j+k !=n))"
   ]
  },
  {
   "cell_type": "code",
   "execution_count": null,
   "id": "456d1887",
   "metadata": {},
   "outputs": [],
   "source": [
    "# Task - 2 - Find The Runner Up Score\n",
    "if __name__ == '__main__':\n",
    "    n = int(input())\n",
    "    arr = list(map(int, input().split()))\n",
    "    arr1 = set(arr)\n",
    "    arr2 = sorted(arr1)\n",
    "    print(arr2[-2])"
   ]
  },
  {
   "cell_type": "code",
   "execution_count": null,
   "id": "24b180dc",
   "metadata": {},
   "outputs": [],
   "source": [
    "# task - 3 - Nested Lists\n",
    "\n",
    "Result =[]\n",
    "scorelist = []\n",
    "\n",
    "if __name__ == '__main__':\n",
    "    for _ in range(int(input())):\n",
    "        name = input()\n",
    "        score = float(input())\n",
    "        Result+=[[name,score]]\n",
    "        scorelist+=[score]\n",
    "    b=sorted(list(set(scorelist)))[1] \n",
    "\n",
    "    for a,c in sorted(Result):\n",
    "        if c==b:\n",
    "            print(a)"
   ]
  },
  {
   "cell_type": "code",
   "execution_count": null,
   "id": "0fed0091",
   "metadata": {},
   "outputs": [],
   "source": [
    "# Task - 4 - Finding The Percentage\n",
    "\n",
    "if __name__ == '__main__':\n",
    "    n = int(input())\n",
    "    student_marks = {}\n",
    "    for _ in range(n):\n",
    "        line = input().split()\n",
    "        name, scores = line[0], line[1:]\n",
    "        scores = map(float, scores)\n",
    "        student_marks[name] = scores\n",
    "    query_name = input()\n",
    "    marks=0\n",
    "    for i in student_marks[query_name]:\n",
    "        marks=marks+i\n",
    "    avg=marks/3\n",
    "    print(\"%.2f\"%avg)"
   ]
  },
  {
   "cell_type": "code",
   "execution_count": null,
   "id": "92a966e0",
   "metadata": {},
   "outputs": [],
   "source": [
    "# Task - 5- Lists\n",
    "\n",
    "if __name__ == '__main__':\n",
    "    N = int(input())\n",
    "    l = []\n",
    "    for i in range(N):\n",
    "        s = list(input().split())\n",
    "        if s[0]=='insert':\n",
    "            l.insert(int(s[1]),int(s[2]))\n",
    "        if s[0]=='remove':\n",
    "            l.remove(int(s[1]))\n",
    "        if s[0]=='append':\n",
    "            l.append(int(s[1]))\n",
    "        if s[0]=='sort':\n",
    "            l.sort()\n",
    "        if s[0]=='pop':\n",
    "            l.pop()\n",
    "        if s[0]=='reverse':\n",
    "            l.reverse()     \n",
    "        if s[0]=='print':\n",
    "            print(l)\n"
   ]
  },
  {
   "cell_type": "code",
   "execution_count": null,
   "id": "50c14521",
   "metadata": {},
   "outputs": [],
   "source": []
  },
  {
   "cell_type": "code",
   "execution_count": null,
   "id": "4ea5a397",
   "metadata": {},
   "outputs": [],
   "source": []
  },
  {
   "cell_type": "code",
   "execution_count": null,
   "id": "a36b957d",
   "metadata": {},
   "outputs": [],
   "source": []
  }
 ],
 "metadata": {
  "kernelspec": {
   "display_name": "Python 3 (ipykernel)",
   "language": "python",
   "name": "python3"
  },
  "language_info": {
   "codemirror_mode": {
    "name": "ipython",
    "version": 3
   },
   "file_extension": ".py",
   "mimetype": "text/x-python",
   "name": "python",
   "nbconvert_exporter": "python",
   "pygments_lexer": "ipython3",
   "version": "3.9.7"
  }
 },
 "nbformat": 4,
 "nbformat_minor": 5
}
