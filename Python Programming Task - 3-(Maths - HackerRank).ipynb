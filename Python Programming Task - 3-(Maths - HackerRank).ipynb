{
 "cells": [
  {
   "cell_type": "code",
   "execution_count": 1,
   "id": "97d63d1b",
   "metadata": {},
   "outputs": [
    {
     "name": "stdout",
     "output_type": "stream",
     "text": [
      "2\n",
      "2.0\n",
      "0.0\n"
     ]
    }
   ],
   "source": [
    "# 1. Polar Coordinates\n",
    "\n",
    "# Enter your code here. Read input from STDIN. Print output to STDOUT\n",
    "import cmath;\n",
    "\n",
    "num = complex(input())\n",
    "z = complex(num)\n",
    "\n",
    "print(cmath.polar(z)[0])\n",
    "print(cmath.polar(z)[1])"
   ]
  },
  {
   "cell_type": "code",
   "execution_count": 2,
   "id": "100db6d0",
   "metadata": {},
   "outputs": [
    {
     "name": "stdout",
     "output_type": "stream",
     "text": [
      "2\n",
      "2\n",
      "45°\n"
     ]
    }
   ],
   "source": [
    "# 2. Find Angle MBC\n",
    "\n",
    "# Enter your code here. Read input from STDIN. Print output to STDOUT\n",
    "# importing the module\n",
    "import math\n",
    "\n",
    "# taking the input from user\n",
    "ab = float(input())\n",
    "bc = float(input())\n",
    "\n",
    "# finding the distance \n",
    "ac = math.sqrt((ab*ab)+(bc*bc))\n",
    "bm = ac / 2.0\n",
    "mc = bm\n",
    "\n",
    "# equalizing the sides \n",
    "b = mc\n",
    "c = bm\n",
    "a = bc\n",
    "\n",
    "# where b=c\n",
    "# finding the angle in radian\n",
    "angel_b_radian = math.acos(a / (2*b))\n",
    "\n",
    "# converting the radian to degree\n",
    "angel_b_degree = int(round((180 * angel_b_radian) / math.pi))\n",
    "\n",
    "# printing with degree\n",
    "print(angel_b_degree,'\\u00B0',sep='')"
   ]
  },
  {
   "cell_type": "code",
   "execution_count": 3,
   "id": "9cbdf5b3",
   "metadata": {},
   "outputs": [
    {
     "name": "stdout",
     "output_type": "stream",
     "text": [
      "5\n",
      "1\n",
      "121\n",
      "12321\n",
      "1234321\n",
      "123454321\n"
     ]
    }
   ],
   "source": [
    "# 3. Triangle Quest 2\n",
    "\n",
    "for i in range(1,int(input())+1): \n",
    "    print (((10**i - 1)//9)**2)"
   ]
  },
  {
   "cell_type": "code",
   "execution_count": 4,
   "id": "e1899744",
   "metadata": {},
   "outputs": [
    {
     "name": "stdout",
     "output_type": "stream",
     "text": [
      "2\n",
      "2\n",
      "1\n",
      "0\n",
      "(1, 0)\n"
     ]
    }
   ],
   "source": [
    "# 4. Mod Divmod\n",
    "\n",
    "# Enter your code here. Read input from STDIN. Print output to STDOUT\n",
    "a = int(input())\n",
    "b = int(input())\n",
    "print (a//b)\n",
    "print (a%b)\n",
    "print (divmod(a,b))"
   ]
  },
  {
   "cell_type": "code",
   "execution_count": 5,
   "id": "56334ce9",
   "metadata": {},
   "outputs": [
    {
     "name": "stdout",
     "output_type": "stream",
     "text": [
      "2\n",
      "2\n",
      "2\n",
      "4\n",
      "0\n"
     ]
    }
   ],
   "source": [
    "# 5. Power - Mod Power\n",
    "\n",
    "# Enter your code here. Read input from STDIN. Print output to STDOUT\n",
    "a=int(input())\n",
    "b=int(input())\n",
    "m=int(input())\n",
    "\n",
    "print(pow(a,b))\n",
    "print(pow(a,b,m))"
   ]
  },
  {
   "cell_type": "code",
   "execution_count": 6,
   "id": "842f9ab1",
   "metadata": {},
   "outputs": [
    {
     "name": "stdout",
     "output_type": "stream",
     "text": [
      "3\n",
      "3\n",
      "3\n",
      "3\n",
      "54\n"
     ]
    }
   ],
   "source": [
    "# 6. Integers Come In All Sizes\n",
    "\n",
    "# Enter your code here. Read input from STDIN. Print output to STDOUT\n",
    "a = int(input())\n",
    "b = int(input())\n",
    "c = int(input())\n",
    "d = int(input())\n",
    "\n",
    "print(a**b+c**d)"
   ]
  },
  {
   "cell_type": "code",
   "execution_count": null,
   "id": "c0a94e7c",
   "metadata": {},
   "outputs": [],
   "source": []
  }
 ],
 "metadata": {
  "kernelspec": {
   "display_name": "Python 3 (ipykernel)",
   "language": "python",
   "name": "python3"
  },
  "language_info": {
   "codemirror_mode": {
    "name": "ipython",
    "version": 3
   },
   "file_extension": ".py",
   "mimetype": "text/x-python",
   "name": "python",
   "nbconvert_exporter": "python",
   "pygments_lexer": "ipython3",
   "version": "3.9.7"
  }
 },
 "nbformat": 4,
 "nbformat_minor": 5
}
