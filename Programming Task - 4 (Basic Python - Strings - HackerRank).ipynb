{
 "cells": [
  {
   "cell_type": "code",
   "execution_count": 2,
   "id": "adfc0128",
   "metadata": {},
   "outputs": [],
   "source": [
    "# 1. Swap Case\n",
    "\n",
    "def swap_case(s):\n",
    "    SwAp = ''\n",
    "    for char in s:\n",
    "        if char.upper() != char:\n",
    "            SwAp += char.upper()\n",
    "        elif char.lower() != char:\n",
    "            SwAp += char.lower()\n",
    "        else:\n",
    "            SwAp += char\n",
    "    \n",
    "    \n",
    "    return SwAp"
   ]
  },
  {
   "cell_type": "code",
   "execution_count": null,
   "id": "d7552022",
   "metadata": {},
   "outputs": [],
   "source": []
  },
  {
   "cell_type": "code",
   "execution_count": 3,
   "id": "e1150ab2",
   "metadata": {},
   "outputs": [
    {
     "name": "stdout",
     "output_type": "stream",
     "text": [
      "3\n",
      "3\n"
     ]
    }
   ],
   "source": [
    "# 2. String Split and Join\n",
    "\n",
    "def split_and_join(line):\n",
    "\n",
    "    # write your code here\n",
    "\n",
    "    a = line.split(\" \")\n",
    "\n",
    "    b = \"-\".join(a)\n",
    "\n",
    "    return(b)\n",
    "\n",
    "if __name__ == '__main__':\n",
    "    line = input()\n",
    "    result = split_and_join(line)\n",
    "    print(result)"
   ]
  },
  {
   "cell_type": "code",
   "execution_count": 4,
   "id": "b18768bf",
   "metadata": {},
   "outputs": [],
   "source": [
    "# 3. Whats Your Name ?\n",
    "\n",
    "def print_full_name(first, last):\n",
    "    # Write your code here\n",
    "    print(f'Hello {first} {last}! You just delved into python.')"
   ]
  },
  {
   "cell_type": "code",
   "execution_count": 8,
   "id": "a284d82b",
   "metadata": {},
   "outputs": [
    {
     "data": {
      "text/plain": [
       "<function __main__.print_full_name(first, last)>"
      ]
     },
     "execution_count": 8,
     "metadata": {},
     "output_type": "execute_result"
    }
   ],
   "source": [
    "print_full_name"
   ]
  },
  {
   "cell_type": "code",
   "execution_count": 9,
   "id": "a3e9ed74",
   "metadata": {},
   "outputs": [],
   "source": [
    "# 4. Mutations\n",
    "\n",
    "def mutate_string(string, position, character):\n",
    "    lis=list(string)\n",
    "    lis[position]=character\n",
    "    return ''.join(lis)"
   ]
  },
  {
   "cell_type": "code",
   "execution_count": 12,
   "id": "21511001",
   "metadata": {},
   "outputs": [],
   "source": [
    "# 5. Find A String\n",
    "\n",
    "def count_substring(string, sub_string):\n",
    "    # Find a string in Python - Hacker Rank Solution START\n",
    "    count = 0\n",
    "    for i in range(len(string)-len(sub_string)+1):\n",
    "        if (string[i:i+len(sub_string)] == sub_string):\n",
    "            count += 1\n",
    "    return count"
   ]
  },
  {
   "cell_type": "code",
   "execution_count": 13,
   "id": "3df9a473",
   "metadata": {},
   "outputs": [
    {
     "name": "stdout",
     "output_type": "stream",
     "text": [
      "2\n",
      "True\n",
      "False\n",
      "True\n",
      "False\n",
      "False\n"
     ]
    }
   ],
   "source": [
    "# 6. String Validators\n",
    "\n",
    "if __name__ == '__main__':\n",
    "    s = input()\n",
    "\n",
    "res = False\n",
    "for i in s:\n",
    "    if i.isalnum():\n",
    "        res = True\n",
    "        break\n",
    "print(res)\n",
    "\n",
    "res = False\n",
    "for j in s:\n",
    "    if j.isalpha():\n",
    "        res = True\n",
    "        break\n",
    "print(res)\n",
    "\n",
    "res = False\n",
    "for k in s:\n",
    "    if k.isdigit():\n",
    "        res = True\n",
    "        break\n",
    "print(res)\n",
    "\n",
    "res = False\n",
    "for l in s:\n",
    "    if l.islower():\n",
    "        res = True\n",
    "        break\n",
    "print(res)\n",
    "\n",
    "res = False\n",
    "for l in s:\n",
    "    if l.isupper():\n",
    "        res = True\n",
    "        break\n",
    "print(res)"
   ]
  },
  {
   "cell_type": "code",
   "execution_count": 15,
   "id": "a0a363a5",
   "metadata": {},
   "outputs": [
    {
     "name": "stdout",
     "output_type": "stream",
     "text": [
      "3\n",
      "  H              \n",
      " HHH             \n",
      "HHHHH            \n",
      " HHH         HHH        \n",
      " HHH         HHH        \n",
      " HHH         HHH        \n",
      " HHH         HHH        \n",
      " HHHHHHHHHHHHHHH  \n",
      " HHHHHHHHHHHHHHH  \n",
      " HHH         HHH        \n",
      " HHH         HHH        \n",
      " HHH         HHH        \n",
      " HHH         HHH        \n",
      "            HHHHH\n",
      "             HHH \n",
      "              H  \n"
     ]
    }
   ],
   "source": [
    "# 7. Text Alignment\n",
    "\n",
    "t = int(input()) # thickness\n",
    "assert t % 2 == 1\n",
    "total_width = t * 6\n",
    "ch = 'H'         # filler\n",
    "\n",
    "def cone(aligned_left: bool = False, pointing_down: bool = False):\n",
    "    width = t * 2 - 1\n",
    "    layer_gen = range(t)\n",
    "    align = '>' if aligned_left else '<'\n",
    "    if pointing_down:\n",
    "        layer_gen = reversed(layer_gen)\n",
    "        \n",
    "    for layer in layer_gen:\n",
    "        unaligned_layer = f\"{ch * (1 + layer * 2): ^{width}}\"\n",
    "        print(f\"{unaligned_layer:{align}{total_width - 1}}\")\n",
    "\n",
    "def pillars():\n",
    "    for layer in range(t + 1):\n",
    "        print(f\"{ch * t: ^{t*2}}{ch * t:^{total_width}}\")\n",
    "        \n",
    "def middle_belt():\n",
    "    for i in range((t + 1) // 2):\n",
    "        print(f\"{ch * t * 5: ^{total_width}}\")\n",
    "\n",
    "cone()                                      #Top Cone\n",
    "pillars()                                   #Top Pillars\n",
    "middle_belt()                               #Middle Belt\n",
    "pillars()                                   #Bottom Pillars\n",
    "cone(aligned_left=True, pointing_down=True) #Bottom Cone"
   ]
  },
  {
   "cell_type": "code",
   "execution_count": 16,
   "id": "7b366dec",
   "metadata": {},
   "outputs": [],
   "source": [
    "# 8. Text Wrap\n",
    "\n",
    "def wrap(string, max_width):\n",
    "    # Text Wrap in Python - HackerRank Solution START\n",
    "    return textwrap.fill(string,max_width)\n",
    "    # Text Wrap in Python - HackerRank Solution EN"
   ]
  },
  {
   "cell_type": "code",
   "execution_count": 21,
   "id": "ba486eff",
   "metadata": {},
   "outputs": [
    {
     "name": "stdout",
     "output_type": "stream",
     "text": [
      "9 27\n",
      "------------.|.------------\n",
      "---------.|..|..|.---------\n",
      "------.|..|..|..|..|.------\n",
      "---.|..|..|..|..|..|..|.---\n",
      "----------WELCOME----------\n",
      "---.|..|..|..|..|..|..|.---\n",
      "------.|..|..|..|..|.------\n",
      "---------.|..|..|.---------\n",
      "------------.|.------------\n"
     ]
    }
   ],
   "source": [
    "# 9. Designer Door Mat\n",
    "\n",
    "# Enter your code here. Read input from STDIN. Print output to STDOUT\n",
    "N, M = map(int, input().split())\n",
    "for i in range(1, N, 2):\n",
    "    print(str('.|.' * i).center(M, '-'))\n",
    "print('WELCOME'.center(M, '-'))\n",
    "for i in range(N-2, -1, -2):\n",
    "    print(str('.|.' * i).center(M, '-'))"
   ]
  },
  {
   "cell_type": "code",
   "execution_count": 22,
   "id": "fce5e77b",
   "metadata": {},
   "outputs": [],
   "source": [
    "# 10. String Formatting\n",
    "\n",
    "def print_formatted(number):\n",
    "    pad = number.bit_length()\n",
    "    for i in range(1,number+1):\n",
    "        print(str(i).rjust(pad),oct(i).split(\"o\")[1].rjust(pad),hex(i).split(\"x\")[1].upper().rjust(pad),bin(i).split(\"b\")[1].rjust(pad))"
   ]
  },
  {
   "cell_type": "code",
   "execution_count": 23,
   "id": "aad82267",
   "metadata": {},
   "outputs": [],
   "source": [
    "# 11. Alphabet Rangoli\n",
    "\n",
    "def print_rangoli(size):\n",
    "    # your code goes here\n",
    "    # Alphabet Rangoli in Python - HackerRank Solution START\n",
    "    width  = size*4-3\n",
    "    string = ''\n",
    "\n",
    "    for i in range(1,size+1):\n",
    "        for j in range(0,i):\n",
    "            string += chr(96+size-j)\n",
    "            if len(string) < width :\n",
    "                string += '-'\n",
    "        for k in range(i-1,0,-1):    \n",
    "            string += chr(97+size-k)\n",
    "            if len(string) < width :\n",
    "                string += '-'\n",
    "        print(string.center(width,'-'))\n",
    "        string = ''\n",
    "\n",
    "    for i in range(size-1,0,-1):\n",
    "        string = ''\n",
    "        for j in range(0,i):\n",
    "            string += chr(96+size-j)\n",
    "            if len(string) < width :\n",
    "                string += '-'\n",
    "        for k in range(i-1,0,-1):\n",
    "            string += chr(97+size-k)\n",
    "            if len(string) < width :\n",
    "                string += '-'\n",
    "        print(string.center(width,'-'))\n",
    "\n"
   ]
  },
  {
   "cell_type": "code",
   "execution_count": 24,
   "id": "faa5ca95",
   "metadata": {},
   "outputs": [],
   "source": [
    "# 12. Capitalize\n",
    "\n",
    "def solve(s):\n",
    "\n",
    "    # Capitalize in Python - HackerRank Solution START\n",
    "    for i in s.split():\n",
    "        s = s.replace(i,i.capitalize())\n",
    "    return s"
   ]
  },
  {
   "cell_type": "code",
   "execution_count": 25,
   "id": "0add04c5",
   "metadata": {},
   "outputs": [],
   "source": [
    "# 13. The Minion Game\n",
    "\n",
    "def minion_game(string: str) -> None:\n",
    "    \"\"\"Print the winner of the game and the score.\"\"\"\n",
    "    kevin = stuart = 0\n",
    "    length: int = len(string)\n",
    "    for i, char in enumerate(string):\n",
    "        points: int = length - i\n",
    "        if char in {\"A\", \"E\", \"I\", \"O\", \"U\"}:\n",
    "            kevin += points\n",
    "        else:\n",
    "            stuart += points\n",
    "    if kevin == stuart:\n",
    "        print(\"Draw\")\n",
    "    else:\n",
    "        print(*(\"Stuart\", stuart) if stuart > kevin else (\"Kevin\", kevin))"
   ]
  },
  {
   "cell_type": "code",
   "execution_count": 28,
   "id": "1b32ad07",
   "metadata": {},
   "outputs": [],
   "source": [
    "# 14. Merge The Tools\n",
    "\n",
    "def merge_the_tools(string, k):\n",
    "    l = len(string)//k\n",
    "    for i in range(l):\n",
    "        print(''.join(dict.fromkeys(string[i*k:(i*k)+k])))"
   ]
  },
  {
   "cell_type": "code",
   "execution_count": null,
   "id": "a173d178",
   "metadata": {},
   "outputs": [],
   "source": []
  }
 ],
 "metadata": {
  "kernelspec": {
   "display_name": "Python 3 (ipykernel)",
   "language": "python",
   "name": "python3"
  },
  "language_info": {
   "codemirror_mode": {
    "name": "ipython",
    "version": 3
   },
   "file_extension": ".py",
   "mimetype": "text/x-python",
   "name": "python",
   "nbconvert_exporter": "python",
   "pygments_lexer": "ipython3",
   "version": "3.9.7"
  }
 },
 "nbformat": 4,
 "nbformat_minor": 5
}
